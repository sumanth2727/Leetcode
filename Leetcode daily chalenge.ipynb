{
 "cells": [
  {
   "cell_type": "markdown",
   "id": "a4c5eba5",
   "metadata": {},
   "source": [
    "#Aug 25 2023\n",
    "\n",
    "You are given an array of n pairs pairs where pairs[i] = [lefti, righti] and lefti < righti.\n",
    "\n",
    "A pair p2 = [c, d] follows a pair p1 = [a, b] if b < c. A chain of pairs can be formed in this fashion.\n",
    "\n",
    "Return the length longest chain which can be formed.\n",
    "\n",
    "You do not need to use up all the given intervals. You can select pairs in any order.\n",
    "\n",
    " \n",
    "\n",
    "Example 1:\n",
    "\n",
    "Input: pairs = [[1,2],[2,3],[3,4]]\n",
    "Output: 2\n",
    "Explanation: The longest chain is [1,2] -> [3,4].\n",
    "Example 2:\n",
    "\n",
    "Input: pairs = [[1,2],[7,8],[4,5]]\n",
    "Output: 3\n",
    "Explanation: The longest chain is [1,2] -> [4,5] -> [7,8]."
   ]
  },
  {
   "cell_type": "code",
   "execution_count": 3,
   "id": "5324dba3",
   "metadata": {},
   "outputs": [],
   "source": [
    "#Solution\n",
    "class Solution:\n",
    "    def findLongestChain(self, pairs: list[[]]) -> int:\n",
    "        pairs.sort(key=lambda x: x[1])\n",
    "        cur, ans = float('-inf'), 0\n",
    "        \n",
    "        for pair in pairs:\n",
    "            if cur < pair[0]:\n",
    "                cur = pair[1]\n",
    "                ans += 1\n",
    "                \n",
    "        return ans\n",
    "\n",
    "#dp \n",
    "class Solution:\n",
    "    def findLongestChain(self, pairs: list[list[int]]) -> int:\n",
    "        pairs.sort(key=lambda x: x[0])\n",
    "        n = len(pairs)\n",
    "        dp = [1] * n\n",
    "        \n",
    "        for i in range(1, n):\n",
    "            dp[i] = max(dp[i], max(dp[j] + 1 if pairs[i][0] > pairs[j][1] else 1 for j in range(i)))\n",
    "        \n",
    "        return max(dp)"
   ]
  },
  {
   "cell_type": "code",
   "execution_count": null,
   "id": "0cbe9f05",
   "metadata": {},
   "outputs": [],
   "source": []
  }
 ],
 "metadata": {
  "kernelspec": {
   "display_name": "Python 3 (ipykernel)",
   "language": "python",
   "name": "python3"
  },
  "language_info": {
   "codemirror_mode": {
    "name": "ipython",
    "version": 3
   },
   "file_extension": ".py",
   "mimetype": "text/x-python",
   "name": "python",
   "nbconvert_exporter": "python",
   "pygments_lexer": "ipython3",
   "version": "3.9.12"
  }
 },
 "nbformat": 4,
 "nbformat_minor": 5
}
